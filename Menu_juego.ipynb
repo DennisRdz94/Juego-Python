{
 "cells": [
  {
   "cell_type": "code",
   "execution_count": 2,
   "id": "86069cc6-7ca0-4c2f-8e0a-2edc7a696b45",
   "metadata": {},
   "outputs": [],
   "source": [
    "import os"
   ]
  },
  {
   "cell_type": "code",
   "execution_count": null,
   "id": "44ff5ce0-2614-466a-9e5e-290aaa5884f1",
   "metadata": {},
   "outputs": [
    {
     "name": "stdout",
     "output_type": "stream",
     "text": [
      "Elige el tema de tu preferencia:\n",
      "    Presiona 1 para Ciencias.\n",
      "    Presiona 2 para Cultura Pop.\n",
      "    Presiona 0 para salir.\n"
     ]
    },
    {
     "name": "stdin",
     "output_type": "stream",
     "text": [
      " 1\n",
      "Coloca tu nombre:  Den\n"
     ]
    },
    {
     "name": "stdout",
     "output_type": "stream",
     "text": [
      "Hola Den, has elegido Ciencias\n"
     ]
    },
    {
     "name": "stdin",
     "output_type": "stream",
     "text": [
      " \n"
     ]
    },
    {
     "name": "stdout",
     "output_type": "stream",
     "text": [
      "Elige el tema de tu preferencia:\n",
      "    Presiona 1 para Ciencias.\n",
      "    Presiona 2 para Cultura Pop.\n",
      "    Presiona 0 para salir.\n"
     ]
    }
   ],
   "source": [
    "while True:\n",
    "    print(f\"Elige el tema de tu preferencia:\\n\\\n",
    "    Presiona 1 para Ciencias.\\n\\\n",
    "    Presiona 2 para Cultura Pop.\\n\\\n",
    "    Presiona 0 para salir.\")\n",
    "    opcion= input()\n",
    "    if opcion == \"1\":\n",
    "        nombre= input(\"Coloca tu nombre: \")\n",
    "        if nombre.isalpha()== True:\n",
    "            print(f\"Hola {nombre}, has elegido Ciencias\")\n",
    "        else:\n",
    "            print(\"Nombre no válido\")\n",
    "            break\n",
    "    elif opcion == \"2\":\n",
    "        nombre= input(\"Coloca tu nombre: \")\n",
    "        if nombre.isalpha()== True:\n",
    "            print(f\"Hola {nombre}, has elegido Cultura Pop\")\n",
    "        else:\n",
    "            print(\"Nombre no válido\")\n",
    "            break\n",
    "    elif opcion == \"0\":\n",
    "        break\n",
    "    input()\n",
    "    os.system(\"cls\")"
   ]
  },
  {
   "cell_type": "code",
   "execution_count": null,
   "id": "37034e5d-e92f-410e-a985-ba95bc24e549",
   "metadata": {},
   "outputs": [],
   "source": [
    "\n",
    "\n"
   ]
  }
 ],
 "metadata": {
  "kernelspec": {
   "display_name": "Python 3 (ipykernel)",
   "language": "python",
   "name": "python3"
  },
  "language_info": {
   "codemirror_mode": {
    "name": "ipython",
    "version": 3
   },
   "file_extension": ".py",
   "mimetype": "text/x-python",
   "name": "python",
   "nbconvert_exporter": "python",
   "pygments_lexer": "ipython3",
   "version": "3.9.7"
  }
 },
 "nbformat": 4,
 "nbformat_minor": 5
}
